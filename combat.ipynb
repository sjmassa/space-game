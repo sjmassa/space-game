{
 "cells": [
  {
   "cell_type": "markdown",
   "id": "033526fd-caa4-4c34-aafd-ac3dd016efd8",
   "metadata": {},
   "source": [
    "Combat"
   ]
  },
  {
   "cell_type": "code",
   "execution_count": 4,
   "id": "3c195c30-5e86-457b-9a91-03eee0764300",
   "metadata": {},
   "outputs": [],
   "source": [
    "import sys\n",
    "import os\n",
    "import time\n",
    "import random\n",
    "import items\n",
    "import enemy"
   ]
  },
  {
   "cell_type": "code",
   "execution_count": 17,
   "id": "a71dcbe7-9e7a-44c1-b5db-0537029fd9b1",
   "metadata": {},
   "outputs": [
    {
     "name": "stdout",
     "output_type": "stream",
     "text": [
      "2\n",
      "3\n"
     ]
    }
   ],
   "source": [
    "print(enemy.void_crab.level)\n",
    "print(enemy.energy_slug.level)"
   ]
  },
  {
   "cell_type": "code",
   "execution_count": 36,
   "id": "1543090e-1a76-4fe0-b031-87b8368f45aa",
   "metadata": {},
   "outputs": [
    {
     "name": "stdout",
     "output_type": "stream",
     "text": [
      "<class 'str'>\n",
      "mass\n"
     ]
    }
   ],
   "source": [
    "dict = {\"john\":\"mass\"}\n",
    "x = dict['john']\n",
    "print(type(x))\n",
    "print(x)"
   ]
  },
  {
   "cell_type": "code",
   "execution_count": null,
   "id": "8e278cb1-75be-4ebb-9cc9-e928f534e927",
   "metadata": {},
   "outputs": [],
   "source": []
  }
 ],
 "metadata": {
  "kernelspec": {
   "display_name": "Python 3 (ipykernel)",
   "language": "python",
   "name": "python3"
  },
  "language_info": {
   "codemirror_mode": {
    "name": "ipython",
    "version": 3
   },
   "file_extension": ".py",
   "mimetype": "text/x-python",
   "name": "python",
   "nbconvert_exporter": "python",
   "pygments_lexer": "ipython3",
   "version": "3.10.4"
  }
 },
 "nbformat": 4,
 "nbformat_minor": 5
}
