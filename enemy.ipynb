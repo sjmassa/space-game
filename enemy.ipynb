{
 "cells": [
  {
   "cell_type": "code",
   "execution_count": 2,
   "id": "78087428-1f38-4ee3-a366-847cdb6a5a38",
   "metadata": {},
   "outputs": [],
   "source": [
    "import random\n",
    "from numpy import arange"
   ]
  },
  {
   "cell_type": "markdown",
   "id": "f53f8d83-6df6-44d9-a7c2-ffaaf0f3dfae",
   "metadata": {},
   "source": [
    "Space Game Enemies \n",
    "\n",
    "level\n",
    "health\n",
    "exp\n",
    "loot"
   ]
  },
  {
   "cell_type": "code",
   "execution_count": 12,
   "id": "3146c230-319e-4d24-8922-4479c6c01663",
   "metadata": {},
   "outputs": [
    {
     "name": "stdout",
     "output_type": "stream",
     "text": [
      "range(3, 7)\n"
     ]
    }
   ],
   "source": [
    "player_level = 2\n",
    "game_level = 1\n",
    "\n",
    "#Enemies compiled into a dictionary. Name and minimum level.\n",
    "# enemy_level_1 = {'Void Crab':1, 'Void Stalker':2}\n",
    "# new_enemy = random.choice(list(enemy_dict.items()))\n",
    "\n",
    "class Enemy():\n",
    "    def __init__(self, name):\n",
    "        self.name = name\n",
    "#         self.level = level\n",
    "    damage_type = []\n",
    "    attack = []\n",
    "    description = ''\n",
    "    \n",
    "    \n",
    "class Boss():\n",
    "    def __init__(self, name):\n",
    "        self.name = name\n",
    "#         self.level = level\n",
    "#         self.exp = level*250\n",
    "    damage_type = []\n",
    "    attack = []\n",
    "    description = ''\n",
    "    loot = []\n",
    "    \n",
    "#Enemies - Level 1\n",
    "\n",
    "#creeper\n",
    "creeper = Enemy('Creeper')\n",
    "creeper.damage_type = ['Bludgeoning']\n",
    "creeper.description = ''\n",
    "creeper.attack = [\"Bite\", \"Scratch\"]\n",
    "def gen_creeper():\n",
    "    #Random level within a range.\n",
    "#     level = random.randint(creeper.level, creeper.level+1)\n",
    "    #DPS range based on level.\n",
    "    dps = range(3, 7)\n",
    "#     loot_num = random.randint(level, level*2)\n",
    "#     loot_list = {'Element': random.randint(level, level*2)}\n",
    "    return dps\n",
    "\n",
    "#Stalker\n",
    "# stalker = Enemy('Stalker')\n",
    "# stalker.damage_type = ['Slashing']\n",
    "# stalker.description = ''\n",
    "# def gen_stalker():\n",
    "#     level = random.randint(level, level+1)\n",
    "#     dps = 0\n",
    "#     loot = {'Element': random.randint(level, level*2), 'Flawless Stalker Scythe':1}\n",
    "    \n",
    "#Slug\n",
    "# slug = Enemy('Slug')\n",
    "# slug.damage_type = ['Bludgeoning']\n",
    "# slug.description = ''\n",
    "# def gen_slug():\n",
    "#     level = random.randint(level, level+1)\n",
    "#     dps = 0\n",
    "#     loot = {'Element': random.randint(level, level*2)}\n",
    "\n",
    "#Enemies - Level 1 List\n",
    "enemie_list_level_1 = []\n",
    "print(gen_creeper())\n",
    "\n",
    "# enemy = gen_void_crab(1)\n",
    "# print(enemy)\n",
    "\n",
    "# print(enemy.level)\n",
    "# print(enemy.dps)\n",
    "# print(enemy.exp)\n",
    "# print(enemy.loot)\n",
    "    "
   ]
  },
  {
   "cell_type": "markdown",
   "id": "3ac00409-df86-4516-ba18-8e7a5b83e9b9",
   "metadata": {},
   "source": [
    "Generate Enemy"
   ]
  },
  {
   "cell_type": "code",
   "execution_count": 11,
   "id": "186dc5e9-5af9-44f8-a4d3-5558dbe296bf",
   "metadata": {},
   "outputs": [],
   "source": [
    "#4 Tiers of encounters if enemies are at player level:\n",
    "#Easy - 1x enemy at player level.\n",
    "#Medium - 2x at level or 1x enemy at level + 1.\n",
    "#Hard - 3x at level or 2x at level and 1x at level + 1 or 1x at level +2.\n",
    "#Boss - Level +2 with more health and higher damage.\n",
    "\n",
    "# def generate_combat_easy(game_level, player_level, enemy_loot):\n",
    "    \n",
    "#     num = random.randint(1, 2)\n",
    "#     level = game_level\n",
    "#     # loot == {enemy_loot}\n",
    "#     if num == 1:\n",
    "#         level = random.randint(level, level+1)\n",
    "#     exp = int(num*(level*50*(level/player_level)))\n",
    "#     return num, level, exp, enemy_loot\n",
    "\n",
    "# def generate_enemy_med(enemy_name, game_level):\n",
    "#     enemy_num = random.randint(2, 3)\n",
    "#     if enemy_num == 2:\n",
    "#         enemy_level = game_level + 1\n",
    "#     return enemy_name, enemy_num, enemy_level\n",
    "\n",
    "# def generate_enemy_hard(enemy_name, game_level):\n",
    "#     enemy_num = random.randint(3, 4)\n",
    "#     if enemy_num == 2:\n",
    "#         enemy_level = game_level + 2\n",
    "#     return enemy_name, enemy_num, enemy_level\n",
    "\n"
   ]
  },
  {
   "cell_type": "markdown",
   "id": "e558f2c1",
   "metadata": {},
   "source": [
    "Combat"
   ]
  },
  {
   "cell_type": "code",
   "execution_count": null,
   "id": "97c731ce-6f82-4286-a2e3-942129b70a10",
   "metadata": {},
   "outputs": [],
   "source": []
  }
 ],
 "metadata": {
  "kernelspec": {
   "display_name": "Python 3 (ipykernel)",
   "language": "python",
   "name": "python3"
  },
  "language_info": {
   "codemirror_mode": {
    "name": "ipython",
    "version": 3
   },
   "file_extension": ".py",
   "mimetype": "text/x-python",
   "name": "python",
   "nbconvert_exporter": "python",
   "pygments_lexer": "ipython3",
   "version": "3.10.4"
  }
 },
 "nbformat": 4,
 "nbformat_minor": 5
}
