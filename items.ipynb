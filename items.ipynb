{
 "cells": [
  {
   "cell_type": "markdown",
   "id": "a4b86b95-d161-48bb-ac83-ba208f63b707",
   "metadata": {},
   "source": [
    "Space Game Items"
   ]
  },
  {
   "cell_type": "markdown",
   "id": "5f1bb12c-052b-4592-845c-9df52a67827a",
   "metadata": {},
   "source": [
    "Weapons"
   ]
  },
  {
   "cell_type": "code",
   "execution_count": 26,
   "id": "fd5d6e3a-a152-46da-b615-4b4d1bca337b",
   "metadata": {},
   "outputs": [
    {
     "name": "stdout",
     "output_type": "stream",
     "text": [
      "Medpack 0\n"
     ]
    }
   ],
   "source": [
    "# Space Game Items\n",
    "#All items\n",
    "#Parent class\n",
    "class Item:\n",
    "    def __init__(self, name, usable, stack):\n",
    "        self.name = name\n",
    "        self.usable = usable\n",
    "        self.stack = stack\n",
    "        self.description = ''\n",
    "\n",
    "#Weapons subclass\n",
    "class Weapon(Item):\n",
    "    def __init__(self, name, usable, stack, dps, hands):\n",
    "        self.dps = dps\n",
    "        self.hands = 0\n",
    "        self.damage_type = []\n",
    "        super().__init__(name, usable, stack)\n",
    "        \n",
    "#Armor subclass\n",
    "class Armor(Item):\n",
    "    def __init__(self, name, usable, stack, armor):\n",
    "        self.name = name\n",
    "        self.armor = armor\n",
    "        self.description = \"\"    \n",
    "        self.damage_resistance = []\n",
    "        super().__init__(name, usable, stack)\n",
    "\n",
    "#Backpacks subclass\n",
    "class Backpack(Item):\n",
    "    def __init__(self, name, usable, stack, slots):\n",
    "        self.slots = slots\n",
    "        super().__init__(name, usable, stack)\n",
    "\n",
    "#Backpacks\n",
    "pack_none = Backpack('None', 0, 0, 1)\n",
    "pack_small = Backpack('Small', 0, 4, 1)\n",
    "pack_medium = Backpack('Medium', 0, 8, 1)\n",
    "pack_large = Backpack('Large', 0, 12, 1)\n",
    "\n",
    "#Weapons\n",
    "#DPS - 1\n",
    "fists = Weapon('Fists', 0, 1, 0, 1)\n",
    "# fists.damage_type = ['Bludgeoning']\n",
    "#DPS - 2\n",
    "pipe = Weapon('Pipe', 1, 2, 1, 1)\n",
    "# pipe.damage_type = ['Bludgeoning']\n",
    "wrench = Weapon('Wrench', 1, 2, 1, 1)\n",
    "# wrench.damage_type = ['Bludgeoning']\n",
    "hammer = Weapon('Hammer', 1, 2, 1, 1)\n",
    "# hammer.damage_type = ['Bludgeoning']\n",
    "#DPS - 3\n",
    "knife = Weapon('Knife', 1, 3, 1, 1)\n",
    "knife.damage_type = ['Slashing']\n",
    "#DPS - 5\n",
    "handgun = Weapon('Handgun', 1, 5, 1, 1)\n",
    "# handgun.damage_type = ['Impact', 'Piercing']\n",
    "#DPS - 10\n",
    "shotgun = Weapon('Shotgun', 1, 10, 2, 1)\n",
    "# shotgun.damage_type = ['Impact', 'Piercing']\n",
    "#Lazergun\n",
    "    \n",
    "#Starting Armor\n",
    "no_armor = Armor('None', 0, 0, 1)\n",
    "#Level 1\n",
    "durasuit = Armor('Dura-Suit', 0 ,1, 1)\n",
    "durasuit.description = \"A proprietary general-purpose, padded jumpsuit made by United Habitation Group. Flexible, breathable, and tear resistant.\"\n",
    "# durasuit.damage_resistance = ['Bludgeoning']\n",
    "#Level 2\n",
    "dura_mach2 = Armor(\"Dura-Suit Mach 2\", 0, 2, 1)\n",
    "dura_mach2.description = \"Carbon plate reinforced Dura-Suit, designed for construction and extraction in earth-like environments.\"\n",
    "# dura_mach2.damage_resistance = ['Bludgeoning', 'Slashing']\n",
    "#Level 3\n",
    "envirosuit = Armor('Enviro-Suit', 0, 3, 1)\n",
    "envirosuit.description = \"A Dura-Suit Mach 2 augmented with nano-fortified technology. Designed for hazardous environments.\"\n",
    "# envirosuit.damage_resistance = ['Bludgeoning', 'Slashing', 'Piercing']\n",
    "#Level 4\n",
    "exosuit = Armor('Exo-Suit', 0, 4, 1)\n",
    "exosuit.description = \"UHG's most advanced suit. Capable of withstanding extreme outer-Earth environments.\"\n",
    "# exosuit.damage_resistance = ['Bludgeoning', 'Slashing', 'Piercing', 'Impact']\n",
    "\n",
    "#Keys\n",
    "keycard_basic = ['Keycard Rank 1', 'Keycard Rank 2', 'Keycard Rank 3', 'Keycard Rank 4']\n",
    "keycard_extra = ['Weapons Locker']\n",
    "keys = []\n",
    "\n",
    "#Consumables\n",
    "medpack = Item('Medpack', 1, 3)\n",
    "print(medpack.name, medpack.stack)   "
   ]
  },
  {
   "cell_type": "code",
   "execution_count": null,
   "id": "990d169f-5309-4fd7-88db-dae0e93b361d",
   "metadata": {},
   "outputs": [],
   "source": []
  }
 ],
 "metadata": {
  "kernelspec": {
   "display_name": "Python 3 (ipykernel)",
   "language": "python",
   "name": "python3"
  },
  "language_info": {
   "codemirror_mode": {
    "name": "ipython",
    "version": 3
   },
   "file_extension": ".py",
   "mimetype": "text/x-python",
   "name": "python",
   "nbconvert_exporter": "python",
   "pygments_lexer": "ipython3",
   "version": "3.10.4"
  }
 },
 "nbformat": 4,
 "nbformat_minor": 5
}
