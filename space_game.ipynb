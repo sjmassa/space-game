{
 "cells": [
  {
   "cell_type": "code",
   "execution_count": 1,
   "id": "2ebceaed-c517-4a4f-b110-a13fb6c0306e",
   "metadata": {},
   "outputs": [],
   "source": [
    "import sys\n",
    "import os\n",
    "import time\n",
    "import random\n",
    "import csv\n",
    "from numpy import arange\n",
    "import items\n",
    "# import combat\n",
    "# import termcolor\n",
    "\n",
    "ckey = 0\n",
    "time_var = 0\n",
    "user_name = ''"
   ]
  },
  {
   "cell_type": "markdown",
   "id": "ad5b3f3f-dea9-40ef-b4ca-ec9a8dcc5acc",
   "metadata": {},
   "source": [
    "General Funtions"
   ]
  },
  {
   "cell_type": "code",
   "execution_count": 2,
   "id": "c51115c3-c2fe-4cc4-a7fd-a9843170f4b2",
   "metadata": {},
   "outputs": [],
   "source": [
    "def clr_scr():\n",
    "    os.system('cls')\n",
    "    print(\"\\n\\n\")\n",
    "    time.sleep(2)\n",
    "\n",
    "def skip_line(x):\n",
    "    line = \"\\n\"\n",
    "    print(line * x)\n",
    "\n",
    "def print_text(x, y):\n",
    "    if x != 0:\n",
    "        for letter in x:\n",
    "            print(letter, end=\"\", flush=True)\n",
    "            time.sleep(0)\n",
    "    else:\n",
    "        if y != 0:\n",
    "            for letter in y:\n",
    "                print(letter, end=\"\", flush=True)\n",
    "                time.sleep(0)\n",
    "\n",
    "def press_continue():\n",
    "    ckey = input(\"Press enter to continue:\")\n",
    "    while ckey != \"\":\n",
    "        ckey = input(\"Press enter to continue:\")\n",
    "    print(\"-----------------------\"\"\\n\")\n",
    "\n",
    "def gen_text(printfast, printslow, sleep, line):\n",
    "    print_text(printfast, printslow)\n",
    "    time.sleep(sleep)\n",
    "    skip_line(line)\n",
    "    \n",
    "def saving_checkpoint():\n",
    "    for x in range (0,4):  \n",
    "        b = \"Saving Checkpoint\" + \".\" * x\n",
    "        print (b, end=\"\\r\")\n",
    "        time.sleep(1)\n",
    "\n",
    "def return_checkpoint():\n",
    "    ckey = input(\"Press enter load last checkpoint:\")\n",
    "    while ckey != \"\":\n",
    "        ckey = input(\"Press enter load last checkpoint:\")\n",
    "    clr_scr()"
   ]
  },
  {
   "cell_type": "markdown",
   "id": "31d61132-5fb0-4536-b32f-24867500ed31",
   "metadata": {},
   "source": [
    "Player choice function"
   ]
  },
  {
   "cell_type": "code",
   "execution_count": 3,
   "id": "e178fbb0-069a-46d7-b1b0-ebd77d489d9d",
   "metadata": {},
   "outputs": [],
   "source": [
    "def choice_4(question, option1, option2, option3, option4, output1, output2, output3, output4, sleep, line):\n",
    "    gen_text(question, 0, 2, 0)\n",
    "    #Prints the different choice options\n",
    "    if option1 != 0:\n",
    "        print(\"1. \", end = \"\")\n",
    "        gen_text(option1, 0, 0, 0)\n",
    "    if option2 != 0:\n",
    "        print(\"2. \", end = \"\")\n",
    "        gen_text(option2, 0, 0, 0)\n",
    "    if option3 != 0:\n",
    "        print(\"3. \", end = \"\")\n",
    "        gen_text(option3, 0, 0, 0)\n",
    "    if option4 != 0:\n",
    "        print(\"4. \", end = \"\")\n",
    "        gen_text(option4, 0, 0, 0)\n",
    "    gen_text(\"5. ...\", 0, 0, 0)\n",
    "    #Defines the available choices\n",
    "    choice_1 = ['1', 'one', 'first']\n",
    "    choice_2 = ['2', 'two', 'second']\n",
    "    choice_3 = ['3', 'three', 'third']\n",
    "    choice_4 = ['4', 'four', 'fourth', 'last']\n",
    "    choice_5 = ['5', 'five', 'fifth', '...']\n",
    "    #Starts infinite loop to compare the user input to the available choices\n",
    "    #Then adds 1 to the house value and exits loop\n",
    "    while True:\n",
    "        global ckey\n",
    "        ckey = input(\"> \").lower()\n",
    "        time.sleep(2)\n",
    "        print(\"\")\n",
    "        if ckey in choice_1:\n",
    "            ckey = 1\n",
    "            gen_text(output1, 0, sleep, line)\n",
    "            return ckey\n",
    "        elif ckey in choice_2:\n",
    "            ckey = 2\n",
    "            gen_text(output2, 0, sleep, line)\n",
    "            return ckey\n",
    "        elif ckey in choice_3:\n",
    "            ckey = 3\n",
    "            gen_text(output3, 0, sleep, line)\n",
    "            return ckey\n",
    "        elif ckey in choice_4:\n",
    "            ckey = 4\n",
    "            gen_text(output4, 0, sleep, line)\n",
    "            return ckey\n",
    "        #If one of the available choices was not a valid input,\n",
    "        #cycles back through loop\n",
    "        else:\n",
    "            print(random.choice([\"Not a valid option.\"]))\n",
    "\n",
    "def yes_no(question, output1, output2, sleep, line):\n",
    "    gen_text(question, 0, 1, 0)\n",
    "    gen_text(\"1. Yes.\", 0, 0, 0)\n",
    "    gen_text(\"2. No.\", 0, 0, 0)\n",
    "    gen_text(\"3. ...\", 0, 0, 0)\n",
    "    #Defines the available choices\n",
    "    choice_1 = ['1', 'one', 'first', 'yes']\n",
    "    choice_2 = ['2', 'two', 'second', 'no']\n",
    "    choice_3 = ['3', 'three', 'third', '...']\n",
    "    #Starts infinite loop to compare the user input to the available choices\n",
    "    #Then adds 1 to the house value and exits loop\n",
    "    while True:\n",
    "        global ckey\n",
    "        ckey = input(\"> \").lower()\n",
    "        time.sleep(1)\n",
    "        if ckey in choice_1:\n",
    "            ckey = 1\n",
    "            gen_text(output1, 0, sleep, line)\n",
    "            return ckey\n",
    "        elif ckey in choice_2:\n",
    "            ckey = 2\n",
    "            gen_text(output2, 0, sleep, line)\n",
    "            return ckey\n",
    "        elif ckey in choice_3:\n",
    "            ckey = 3\n",
    "            gen_text(output2, 0, sleep, line)\n",
    "            return ckey\n",
    "        #If one of the available choices was not a valid input,\n",
    "        #cycles back through loop\n",
    "        else:\n",
    "            print(random.choice([\"Not valid input.\"]))\n",
    "\n",
    "# yes_no(\"test\", 'testout1', 'testout2', 0, 0)"
   ]
  },
  {
   "cell_type": "markdown",
   "id": "c9b19ef6-d04f-4a47-87ca-be1e5727dff8",
   "metadata": {},
   "source": [
    "Health Functions"
   ]
  },
  {
   "cell_type": "code",
   "execution_count": 4,
   "id": "98768aa9-555d-43c4-a7d6-91d78a6d150c",
   "metadata": {
    "tags": []
   },
   "outputs": [],
   "source": [
    "#Health Version 2\n",
    "current_health = 100\n",
    "max_health = 100\n",
    "\n",
    "def health():\n",
    "    global current_health\n",
    "    if current_health > 75:\n",
    "        print(\"Health: Good\\n--------------------\")\n",
    "        return\n",
    "    elif current_health > 50:\n",
    "        print(\"Health: Weakened\\n--------------------\")\n",
    "        return\n",
    "    elif current_health > 25:\n",
    "        print(\"Health: Very Weak\\n--------------------\")\n",
    "        return\n",
    "    elif current_health > 0:\n",
    "        print(\"Health: Critical\\n--------------------\")\n",
    "        return\n",
    "\n",
    "medpack_num = 0\n",
    "medpack_plus = 0\n",
    "medpack_plusplus = 0\n",
    "\n",
    "def medpack():\n",
    "    global current_health\n",
    "    global max_health\n",
    "    global medpack_num\n",
    "    global medpack_plus\n",
    "    global medpack_plusplus\n",
    "    \n",
    "    #Displays Health and Medpack status\n",
    "    health()\n",
    "    print(\"Medpacks: \"+str(medpack_num)+\"\\n--------------------\")\n",
    "    \n",
    "    #Medpack use loop\n",
    "    if medpack_num == 0:\n",
    "        gen_text(\"You have no medpacks.\", 0, 0, 1)\n",
    "    else:\n",
    "        yes_no(\"Use a medpack?\", 0, 0, 0, 0)\n",
    "        if ckey == 1:\n",
    "            if current_health == max_health:\n",
    "                print(\"Your health is already full!\")\n",
    "                return\n",
    "            current_health += 15+medpack_plus+medpack_plusplus\n",
    "            medpack_num -= 1\n",
    "            if current_health > max_health:\n",
    "                current_health = max_health\n",
    "            health()\n",
    "            print(\"Medpacks: \"+str(medpack_num)+\"\\n--------------------\")\n",
    "            return"
   ]
  },
  {
   "cell_type": "markdown",
   "id": "27de99da-219e-4021-81b4-8565ece1cdd8",
   "metadata": {},
   "source": [
    "Energy Functions"
   ]
  },
  {
   "cell_type": "code",
   "execution_count": 5,
   "id": "65e00943-ead2-4261-b467-4fd4a517b3aa",
   "metadata": {},
   "outputs": [],
   "source": [
    "#Energy Version 2\n",
    "current_energy = 100\n",
    "max_energy = 100\n",
    "\n",
    "def energy():\n",
    "    global current_energy\n",
    "    if current_energy > 75:\n",
    "        print(\"Energy: High\\n--------------------\")\n",
    "        return\n",
    "    elif current_energy > 50:\n",
    "        print(\"Energy: Moderate\\n--------------------\")\n",
    "        return\n",
    "    elif current_energy > 25:\n",
    "        print(\"Energy: Low\\n--------------------\")\n",
    "        return\n",
    "    elif current_energy > 0:\n",
    "        print(\"Energy: Very Low\\n--------------------\")\n",
    "        return\n",
    "\n",
    "booster_num = 2\n",
    "booster_plus = 0\n",
    "booster_plusplus = 0\n",
    "\n",
    "def booster():\n",
    "    global current_energy\n",
    "    global max_energy\n",
    "    global booster_num\n",
    "    global booster_plus\n",
    "    global booster_plusplus\n",
    "    \n",
    "    #Displays Energy and Booster status\n",
    "    energy()\n",
    "    print(\"Boosters: \"+str(booster_num)+\"\\n--------------------\")\n",
    "    \n",
    "    #Booster use loop\n",
    "    if booster_num == 0:\n",
    "        gen_text(\"You have no boosters.\", 0, 0, 1)\n",
    "    else:\n",
    "        yes_no(\"Use a booster?\", 0, 0, 0, 0)\n",
    "        if ckey == 1:\n",
    "            if current_energy == max_energy:\n",
    "                print(\"Your energy is already full!\")\n",
    "                return\n",
    "            current_energy += 15+booster_plus+booster_plusplus\n",
    "            booster_num -= 1\n",
    "            if current_energy > max_energy:\n",
    "                current_energy = max_energy\n",
    "            energy()\n",
    "            print(\"Boosters: \"+str(booster_num)+\"\\n--------------------\")\n",
    "            return\n"
   ]
  },
  {
   "cell_type": "markdown",
   "id": "7b3eb112-482b-4d7d-81d2-f7d5640e9ca7",
   "metadata": {},
   "source": [
    "Inventory"
   ]
  },
  {
   "cell_type": "code",
   "execution_count": 83,
   "id": "0e5c72e0-c983-4202-9cb2-0d93d2223c1a",
   "metadata": {},
   "outputs": [
    {
     "name": "stdout",
     "output_type": "stream",
     "text": [
      "Keys: \n",
      "Inventory: 2/6\n",
      "-----------------------------\n",
      "1. Booster - 3\n",
      "2. Booster - 2\n",
      "-----------------------------\n"
     ]
    }
   ],
   "source": [
    "#Keys\n",
    "equip_keys = []\n",
    "\n",
    "#Equipment Variables\n",
    "equip_weapon = items.fists\n",
    "equip_armor = items.no_armor\n",
    "equip_pack = items.pack_none\n",
    "\n",
    "#Inventory variables\n",
    "inv_default = 6\n",
    "inv_max = inv_default + equip_pack.slots\n",
    "\n",
    "#Create initial empty inventory CSV.\n",
    "def create_inv_csv():\n",
    "    with open('inventory.csv', 'w') as file:\n",
    "        writer = csv.DictWriter(file, fieldnames=['Item', 'Number'])\n",
    "        writer.writeheader()\n",
    "\n",
    "#Counts current inventory for CSV.\n",
    "def current_inv_num():\n",
    "    with open('inventory.csv') as file:\n",
    "        reader = csv.DictReader(file, fieldnames=['Item', 'Number'])\n",
    "        next(reader, None)\n",
    "        x = 0\n",
    "        for row in reader:\n",
    "            x += 1\n",
    "    return x\n",
    "\n",
    "#Display inventory to player.\n",
    "def list_inventory():\n",
    "    print(f\"Keys: {', '.join(equip_keys)}\")\n",
    "    print(f\"Inventory: {current_inv_num()}/{inv_max}\")\n",
    "    print(\"-----------------------------\")\n",
    "    current_inv = current_inv_num()\n",
    "    if current_inv == 0:\n",
    "        print(\"Your inventory is empty.\")\n",
    "    else:\n",
    "        with open('inventory.csv') as file:         \n",
    "            reader = csv.DictReader(file, fieldnames=['Item', 'Number'])\n",
    "            next(reader, None)\n",
    "            x = 1\n",
    "            for row in reader:            \n",
    "                print(f\"{x}. {row['Item']} - {row['Number']}\")\n",
    "                x += 1\n",
    "    print(\"-----------------------------\")\n",
    "\n",
    "# create_inv_csv()\n",
    "list_inventory()\n",
    "# current_inv_num()"
   ]
  },
  {
   "cell_type": "code",
   "execution_count": 88,
   "id": "8141903c-3e0d-4fe6-91b7-a740637ab270",
   "metadata": {},
   "outputs": [
    {
     "name": "stdout",
     "output_type": "stream",
     "text": [
      "Your inventory is full.\n"
     ]
    },
    {
     "data": {
      "text/plain": [
       "1"
      ]
     },
     "execution_count": 88,
     "metadata": {},
     "output_type": "execute_result"
    }
   ],
   "source": [
    "#Adds and item to inventory.\n",
    "def adding_item(item, new_item_amount):\n",
    "    current_inv = current_inv_num()\n",
    "    global inv_max\n",
    "    \n",
    "    #First test.\n",
    "    if item.stack == 1 and current_inv == inv_max:\n",
    "        print(\"Your inventory is full.\")\n",
    "        return new_item_amount\n",
    "    \n",
    "    #Open existing inventory and new temporary inventory.\n",
    "    with open('inventory.csv', 'r') as old_inv_file, open('inventory_new.csv', 'w') as new_inv_file:\n",
    "        old_inv_read = csv.DictReader(old_inv_file, fieldnames=['Item', 'Number'])\n",
    "        new_inv_write = csv.DictWriter(new_inv_file, fieldnames=['Item', 'Number'])\n",
    "        for row in old_inv_read:\n",
    "            if row['Item'] != item.name or row['Item'] == item.name and int(row['Number']) == item.stack:\n",
    "                new_inv_write.writerow(row)\n",
    "                continue         \n",
    "            #To stack items.\n",
    "            elif row['Item'] == item.name and int(row['Number']) < item.stack:  \n",
    "                new_item_amount += int(row['Number'])     \n",
    "                if new_item_amount >= item.stack:\n",
    "                    new_inv_write.writerow({'Item' : item.name, 'Number' : item.stack})\n",
    "                    new_item_amount -= item.stack    \n",
    "                    continue\n",
    "                elif new_item_amount < item.stack:\n",
    "                    new_inv_write.writerow({'Item' : item.name, 'Number' : new_item_amount})\n",
    "                    continue\n",
    "        #For new inventory slots.\n",
    "        while current_inv < inv_max:\n",
    "            if new_item_amount == 0:\n",
    "                break\n",
    "            if new_item_amount > item.stack:\n",
    "                new_inv_write.writerow({'Item' : item.name, 'Number' : item.stack})\n",
    "                current_inv += 1\n",
    "                new_item_amount -= item.stack\n",
    "            elif new_item_amount <= item.stack and new_item_amount != 0:\n",
    "                new_inv_write.writerow({'Item' : item.name, 'Number' : new_item_amount})\n",
    "                current_inv += 1\n",
    "                new_item_amount -= new_item_amount    \n",
    "        #Last check.\n",
    "        if new_item_amount > 0:\n",
    "            print(\"Your inventory is full.\")\n",
    "      \n",
    "    #Replace old inventory file with new.    \n",
    "    os.remove('inventory.csv')\n",
    "    os.rename('inventory_new.csv', 'inventory.csv')   \n",
    "    return new_item_amount\n",
    "   \n",
    "adding_item(items.pipe, 1)"
   ]
  },
  {
   "cell_type": "markdown",
   "id": "36532bc9-56ff-408f-ba0a-79bde79a5c90",
   "metadata": {},
   "source": [
    "Inventory Sorting System"
   ]
  },
  {
   "cell_type": "code",
   "execution_count": 91,
   "id": "4fc80a3c-19a8-4ba0-8da3-8a41397deff4",
   "metadata": {},
   "outputs": [
    {
     "name": "stdout",
     "output_type": "stream",
     "text": [
      "['Booster', 'Element', 'Handgun', 'Medpack']\n",
      "{'Booster': ['3']}\n"
     ]
    },
    {
     "ename": "KeyError",
     "evalue": "'Element'",
     "output_type": "error",
     "traceback": [
      "\u001b[1;31m---------------------------------------------------------------------------\u001b[0m",
      "\u001b[1;31mKeyError\u001b[0m                                  Traceback (most recent call last)",
      "Input \u001b[1;32mIn [91]\u001b[0m, in \u001b[0;36m<cell line: 50>\u001b[1;34m()\u001b[0m\n\u001b[0;32m     47\u001b[0m     os\u001b[38;5;241m.\u001b[39mremove(\u001b[38;5;124m'\u001b[39m\u001b[38;5;124minventory.csv\u001b[39m\u001b[38;5;124m'\u001b[39m)\n\u001b[0;32m     48\u001b[0m     os\u001b[38;5;241m.\u001b[39mrename(\u001b[38;5;124m'\u001b[39m\u001b[38;5;124minventory_new.csv\u001b[39m\u001b[38;5;124m'\u001b[39m, \u001b[38;5;124m'\u001b[39m\u001b[38;5;124minventory.csv\u001b[39m\u001b[38;5;124m'\u001b[39m)   \n\u001b[1;32m---> 50\u001b[0m \u001b[43msort_inv_dict\u001b[49m\u001b[43m(\u001b[49m\u001b[43m)\u001b[49m\n",
      "Input \u001b[1;32mIn [91]\u001b[0m, in \u001b[0;36msort_inv_dict\u001b[1;34m()\u001b[0m\n\u001b[0;32m     42\u001b[0m     \u001b[38;5;28mprint\u001b[39m(temporary_dict)\n\u001b[0;32m     43\u001b[0m     \u001b[38;5;28;01mfor\u001b[39;00m key \u001b[38;5;129;01min\u001b[39;00m temp_keys:\n\u001b[1;32m---> 44\u001b[0m         \u001b[38;5;28;01mfor\u001b[39;00m value \u001b[38;5;129;01min\u001b[39;00m \u001b[43mtemporary_dict\u001b[49m\u001b[43m[\u001b[49m\u001b[43mkey\u001b[49m\u001b[43m]\u001b[49m:\n\u001b[0;32m     45\u001b[0m             new_inv_write\u001b[38;5;241m.\u001b[39mwriterow({\u001b[38;5;124m'\u001b[39m\u001b[38;5;124mItem\u001b[39m\u001b[38;5;124m'\u001b[39m : key, \u001b[38;5;124m'\u001b[39m\u001b[38;5;124mNumber\u001b[39m\u001b[38;5;124m'\u001b[39m : value})\n\u001b[0;32m     47\u001b[0m os\u001b[38;5;241m.\u001b[39mremove(\u001b[38;5;124m'\u001b[39m\u001b[38;5;124minventory.csv\u001b[39m\u001b[38;5;124m'\u001b[39m)\n",
      "\u001b[1;31mKeyError\u001b[0m: 'Element'"
     ]
    }
   ],
   "source": [
    "#Create temporary dictionary for sort_inv_dict().\n",
    "def create_inv_temp_dict(file):\n",
    "    #Compile inventory into a dictionary.\n",
    "    temp_keys = []\n",
    "    temp_values = []\n",
    "    temporary_dict = {}  \n",
    "    #Create key, value lists.\n",
    "    for row in file:\n",
    "        #Ignore header.\n",
    "        temp_keys += [row['Item']]\n",
    "        temp_values += [row['Number']]\n",
    "    #Create dictioary.\n",
    "    for key in temp_keys:          \n",
    "        x = 0\n",
    "        if key not in temporary_dict:\n",
    "            temporary_dict[temp_keys[x]] = [temp_values[x]]\n",
    "            x += 1\n",
    "        elif key in temporary_dict:\n",
    "            temporary_dict[temp_keys[x]] += [temp_values[x]]\n",
    "            x += 1\n",
    "    #New list with redundant names removed.\n",
    "    temp_keys_consolidated = []\n",
    "    for key in temp_keys:\n",
    "        if key not in temp_keys_consolidated:\n",
    "            temp_keys_consolidated += [key]\n",
    "    #Sorts temp_keys list.\n",
    "    temp_keys_consolidated.sort() \n",
    "    return temp_keys_consolidated, temporary_dict\n",
    "\n",
    "#Main inventory sort function.\n",
    "def sort_inv_dict():\n",
    "    #Open files.\n",
    "    with open('inventory.csv', 'r') as old_inv_file, open('inventory_new.csv', 'w') as new_inv_file:\n",
    "        old_inv_read = csv.DictReader(old_inv_file, fieldnames=['Item', 'Number'])\n",
    "        new_inv_write = csv.DictWriter(new_inv_file, fieldnames=['Item', 'Number'])\n",
    "        new_inv_write.writeheader()\n",
    "        next(old_inv_read, None)\n",
    "        #Creates a dictionary from inventory.csv.\n",
    "        temp_keys, temporary_dict = create_inv_temp_dict(old_inv_read)\n",
    "        #Writes new sorted inventory.\n",
    "        print(temp_keys)\n",
    "        print(temporary_dict)\n",
    "        for key in temp_keys:\n",
    "            for value in temporary_dict[key]:\n",
    "                new_inv_write.writerow({'Item' : key, 'Number' : value})\n",
    "            \n",
    "    os.remove('inventory.csv')\n",
    "    os.rename('inventory_new.csv', 'inventory.csv')   \n",
    "\n",
    "sort_inv_dict()"
   ]
  },
  {
   "cell_type": "code",
   "execution_count": 43,
   "id": "b6db4407-2f31-40d9-bcf1-eb0680a35771",
   "metadata": {},
   "outputs": [
    {
     "name": "stdout",
     "output_type": "stream",
     "text": [
      "Pack: None\n",
      "Weapon: Fists, DPS: 0\n",
      "Suit: None\n",
      "-----------------------------\n",
      "Keys: \n",
      "Inventory: 6/6\n",
      "-----------------------------\n",
      "Your inventory is empty.\n",
      "-----------------------------\n"
     ]
    }
   ],
   "source": [
    "#Display Inventory\n",
    "def show_inventory():\n",
    "    global equip_keys\n",
    "    global inventory_dict\n",
    "    global inv_default\n",
    "    global equip_keys\n",
    "    print(f\"Keys: {', '.join(equip_keys)}\")\n",
    "    print(f\"Inventory: {current_inv_num()}/{inv_max}\")\n",
    "    print(\"-----------------------------\")\n",
    "    empty_bag_var = 0\n",
    "    num = 1\n",
    "    for key, value in inventory_dict.items():\n",
    "        if value > 0:\n",
    "            print(f\"{num}. {key} - x{value}\")\n",
    "            num += 1\n",
    "            empty_bag_var += 1\n",
    "    if empty_bag_var == 0:\n",
    "        print(\"Your inventory is empty.\")\n",
    "    print(\"-----------------------------\")\n",
    "\n",
    "#Display Inventory Status\n",
    "def inv_status():\n",
    "    global inv_plus\n",
    "    global inv_plusplus\n",
    "    global inv_max\n",
    "    global inventory_dict\n",
    "    global current_inv\n",
    "    print(f\"Inventory: {current_inv}/{inv_max}\\n--------------------\")\n",
    "    \n",
    "def pack():\n",
    "    print(f\"Pack: {pack_list_keys[1]} + {pack_list_values[1]} Slots\")\n",
    "    print(\"-----------------------------\")\n",
    "\n",
    "#Equipment Display Funcion\n",
    "def equipment():\n",
    "    if equip_pack == items.pack_none:\n",
    "        print(\"Pack: \"+equip_pack.name)\n",
    "    else:\n",
    "        print(f\"Pack: {equip_pack.name} + {equip_pack.slots} Slots\")\n",
    "    print(f\"Weapon: {equip_weapon.name}, DPS: {equip_weapon.dps}\")\n",
    "    if equip_armor == items.no_armor:\n",
    "        print(\"Suit: None\")\n",
    "    else:\n",
    "        print(f\"Suit: {equip_armor.name}, Armor: {equip_armor.armor}\")\n",
    "    print(\"-----------------------------\")\n",
    "\n",
    "equipment()\n",
    "show_inventory()"
   ]
  },
  {
   "cell_type": "markdown",
   "id": "e476e596-5f9d-4232-b114-020831cd0a92",
   "metadata": {},
   "source": [
    "Psionic Functions"
   ]
  },
  {
   "cell_type": "code",
   "execution_count": 8,
   "id": "26e22c08-7945-4672-afe8-c37984b93087",
   "metadata": {},
   "outputs": [],
   "source": [
    "psionics = ''\n"
   ]
  },
  {
   "cell_type": "markdown",
   "id": "390b7eb7-9abc-4ecf-9265-d8ca324ca973",
   "metadata": {},
   "source": [
    "Help List Functions"
   ]
  },
  {
   "cell_type": "code",
   "execution_count": 193,
   "id": "55517528-76f9-4293-b9d0-fbaabb9caaa3",
   "metadata": {},
   "outputs": [],
   "source": [
    "def help_list():\n",
    "    print(\"---------------------------------------------\")\n",
    "    print(\"Available player commands:\\n\")\n",
    "    print(\"help - Lists command options.\")\n",
    "    print(\"stat - Displays Health, Energy, and Inventory Status.\")\n",
    "    print(\"inv - Lists players inventory and equipped items.\")\n",
    "    print(\"map - Displays the map.\")\n",
    "    print(\"log - Displays log files.\")\n",
    "    print(\"clear - Clears screen.\")\n",
    "    print(\"---------------------------------------------\")\n",
    "    \n",
    "def status():\n",
    "    health()\n",
    "    energy()\n",
    "    inv_status()\n",
    "    # skills()\n",
    "    \n",
    "def help_commands(player_input):\n",
    "    help_options = ['help', 'stat', 'inv', 'skill', 'map', 'clr']\n",
    "    if player_input in help_options:\n",
    "        if player_input == 'help':\n",
    "            help_list()\n",
    "        elif player_input == 'stat':\n",
    "            status()\n",
    "        elif player_input == 'health':\n",
    "            health()\n",
    "        elif player_input == 'energy':\n",
    "            energy()\n",
    "        elif player_input == 'inv':\n",
    "            equipment()\n",
    "            inventory_list()\n",
    "        elif player_input == 'clr':\n",
    "            clr_scr()\n",
    "    return\n",
    "\n",
    "# help_commands(input())\n",
    "# status()\n",
    "# inventory_list()\n",
    "# help_list()"
   ]
  },
  {
   "cell_type": "markdown",
   "id": "b6e077d0-abb7-4a93-81f2-3a2840ffd949",
   "metadata": {},
   "source": [
    "Use Items"
   ]
  },
  {
   "cell_type": "code",
   "execution_count": null,
   "id": "0c98257f-505e-4cae-baf3-5e100f3b020c",
   "metadata": {},
   "outputs": [],
   "source": []
  },
  {
   "cell_type": "markdown",
   "id": "a09def34",
   "metadata": {},
   "source": [
    "Test Environment"
   ]
  },
  {
   "cell_type": "code",
   "execution_count": null,
   "id": "78211e6c-5f4c-454f-88f1-74a057bcc30a",
   "metadata": {},
   "outputs": [],
   "source": []
  },
  {
   "cell_type": "code",
   "execution_count": null,
   "id": "3a3edb36-6d2e-4e82-88a0-b6761a628567",
   "metadata": {},
   "outputs": [],
   "source": []
  },
  {
   "cell_type": "code",
   "execution_count": null,
   "id": "7072360c-3653-4dea-8b3b-063697a897af",
   "metadata": {},
   "outputs": [],
   "source": []
  },
  {
   "cell_type": "code",
   "execution_count": null,
   "id": "8d6837db-672b-4b99-9bce-3f302d6cb373",
   "metadata": {},
   "outputs": [],
   "source": []
  },
  {
   "cell_type": "code",
   "execution_count": null,
   "id": "7a6a462f-32bb-4307-81c2-cf3959577142",
   "metadata": {},
   "outputs": [],
   "source": []
  },
  {
   "cell_type": "code",
   "execution_count": null,
   "id": "94d46639-778b-4eec-8571-76d89e99a3c8",
   "metadata": {},
   "outputs": [],
   "source": []
  },
  {
   "cell_type": "code",
   "execution_count": null,
   "id": "e62b7673-8ea7-4f38-8a46-839688e238fa",
   "metadata": {},
   "outputs": [],
   "source": []
  },
  {
   "cell_type": "code",
   "execution_count": null,
   "id": "93f4a926-ea09-40a4-9ee7-40b4b350ed98",
   "metadata": {},
   "outputs": [],
   "source": []
  },
  {
   "cell_type": "markdown",
   "id": "6b7295db-1984-4418-bcbb-bf1798092036",
   "metadata": {},
   "source": [
    "Game Start"
   ]
  },
  {
   "cell_type": "code",
   "execution_count": 194,
   "id": "ccd9ebe8-1e8e-40e8-bcde-010dffa25e2f",
   "metadata": {},
   "outputs": [
    {
     "name": "stdout",
     "output_type": "stream",
     "text": [
      "            Choose your own adventure:            \n",
      "\n",
      "                    Space Game                    \n",
      "\n",
      "               A Python Production                \n",
      "\n",
      "\n",
      "\n",
      "---------------------------------------------\n",
      "Available player commands:\n",
      "\n",
      "help - Lists command options.\n",
      "stat - Displays Health, Energy, and Inventory Status.\n",
      "inv - Lists players inventory and equipped items.\n",
      "map - Displays the map.\n",
      "log - Displays log files.\n",
      "clear - Clears screen.\n",
      "---------------------------------------------\n",
      "\n",
      "\n",
      "\n"
     ]
    },
    {
     "name": "stdin",
     "output_type": "stream",
     "text": [
      "Press enter to continue: \n"
     ]
    },
    {
     "name": "stdout",
     "output_type": "stream",
     "text": [
      "-----------------------\n",
      "\n"
     ]
    }
   ],
   "source": [
    "choose_your_own = \"Choose your own adventure:\"\n",
    "alone_on_mars = \"Space Game\"\n",
    "angry_pom = \"A Python Production\"\n",
    "gen_text(choose_your_own.center(50), 0, 0, 1)\n",
    "gen_text(0, alone_on_mars.center(50), 0, 1)\n",
    "gen_text(angry_pom.center(50), 0, 0, 1)\n",
    "print(\"\\n\")\n",
    "help_list()\n",
    "print(\"\\n\\n\")\n",
    "press_continue()"
   ]
  },
  {
   "cell_type": "markdown",
   "id": "e95adba1-a1b7-4a97-9a38-95fd6ce656f3",
   "metadata": {},
   "source": [
    "Introduction"
   ]
  },
  {
   "cell_type": "code",
   "execution_count": 195,
   "id": "5b76ea49-a20c-4b66-bfd2-3c4228b91440",
   "metadata": {},
   "outputs": [],
   "source": [
    "# #clrscr()\n",
    "# intro = \"\"\"You are a one of a few new recruits sent to a Mars colony financed\n",
    "# by United Habitation Group. You've been traveling 7 months, during which\n",
    "# time you've learned everything you would need to survive there.\"\"\"\n",
    "# intro_2 = \"At least you hope so....\"\n",
    "\n",
    "# gen_text(intro, 0, 2, 1)\n",
    "# gen_text(intro_2, 0, 2, 1)\n",
    "# press_continue()"
   ]
  },
  {
   "cell_type": "markdown",
   "id": "0cba06c9-e62a-4b73-bc9a-660efdae9578",
   "metadata": {},
   "source": [
    "Second text"
   ]
  },
  {
   "cell_type": "code",
   "execution_count": 46,
   "id": "295477da-c871-4508-a9bd-77d2d01ac54d",
   "metadata": {},
   "outputs": [
    {
     "name": "stdout",
     "output_type": "stream",
     "text": [
      "After a day of hectic unpacking, you settle into your room for a much needed rest...\n",
      "*KABOOOOOOM!!!*\n",
      "You jump out of bed! Alarms start to blare and you hear people shouting!\n",
      "*CRASH!*\n",
      "... ... ...\n",
      "\n"
     ]
    },
    {
     "name": "stdin",
     "output_type": "stream",
     "text": [
      "Press enter to continue: \n"
     ]
    },
    {
     "name": "stdout",
     "output_type": "stream",
     "text": [
      "-----------------------\n",
      "\n"
     ]
    }
   ],
   "source": [
    "# landing = \"After a day of hectic unpacking, you settle into your room for a much needed rest...\"\n",
    "# start_noise_1 = \"*KABOOOOOOM!!!*\"\n",
    "# what_happen = \"You jump out of bed! Alarms start to blare and you hear people shouting!\"\n",
    "# start_noise_2 = \"*CRASH!*\"\n",
    "# silence = \"... ... ...\"\n",
    "\n",
    "# gen_text(landing, 0, 2, 0)\n",
    "# gen_text(0, start_noise_1, 2, 0)\n",
    "# gen_text(what_happen, 0, 2, 0)\n",
    "# gen_text(start_noise_2, 0, 2, 0)\n",
    "# gen_text(0, silence, 2, 1)\n",
    "# press_continue()"
   ]
  },
  {
   "cell_type": "markdown",
   "id": "e503b48b-023e-4d0f-a455-31d4cb2627e8",
   "metadata": {},
   "source": [
    "Chapter 1 - Awakening<br>\n",
    "Checkpoint 1<br>\n",
    "First set of choices to leave current room.<br>"
   ]
  },
  {
   "cell_type": "code",
   "execution_count": 47,
   "id": "8190f13c-028f-4ce1-a9bd-0396bd67221a",
   "metadata": {},
   "outputs": [
    {
     "name": "stdout",
     "output_type": "stream",
     "text": [
      "Saving Checkpoint...\n",
      "-----------------------\n",
      "\n",
      "Chapter 1 - Awakening\n",
      "\n",
      "You awake in darkness with a splitting headache. All is silent...\n",
      "What do you do?\n",
      "1. Try and feel your way around.\n",
      "2. Stay still and listen.\n"
     ]
    },
    {
     "name": "stdin",
     "output_type": "stream",
     "text": [
      ">  1\n"
     ]
    },
    {
     "name": "stdout",
     "output_type": "stream",
     "text": [
      "\n",
      "You reach your hand up and touch your head, your hand comes away\n",
      "wet with blood. As you fumble your way around trying to get your bearings, you are\n",
      "quickly out of breath. The room feels hotter than you remembered. Finally, you touch a\n",
      "door handle.\n",
      "1\n"
     ]
    }
   ],
   "source": [
    "#First checkpoint loop\n",
    "#clrscr()\n",
    "saving_checkpoint()\n",
    "while True:\n",
    "    gen_text(0, \"Chapter 1 - Awakening\", 2, 1)\n",
    "    global ckey\n",
    "    #First question\n",
    "    awake = \"You awake in darkness with a splitting headache. All is silent...\"\n",
    "    question_1 = \"What do you do?\"\n",
    "    option1 = \"Try and feel your way around.\"\n",
    "    option2 = \"Stay still and listen.\"\n",
    "    output1 = \"\"\"You reach your hand up and touch your head, your hand comes away\n",
    "wet with blood. As you fumble your way around trying to get your bearings, you are\n",
    "quickly out of breath. The room feels hotter than you remembered. Finally, you touch a\n",
    "door handle.\"\"\"\n",
    "    output2 = \"\"\"You instinctively lay still, listening. You hear nothing, but you notice the\n",
    "air is warmer than you remember, and it feel like you can't quite get enough air.\n",
    "Reaching up to feel your head, your hand comes away wet with blood.\"\"\"\n",
    "    gen_text(awake, 0, 2, 0)\n",
    "    choice_4(question_1, option1, option2, 0, 0, output1, output2, 0, 0, 1, 0)\n",
    "    print(ckey)\n",
    "    \n",
    "    #Option 2 continuation\n",
    "    option1 = \"Get up.\"\n",
    "    option2 = \"Keep lying still.\"\n",
    "    output1 = \"\"\"Summoning your courage, you start moving. Slowly feeling your way around, \n",
    "you eventually find a door handle.\"\"\"\n",
    "    output2 = \"\"\"Fear grips you. What has happened? All different scenarios run through your head, \n",
    "none have good outcomes. Every little noise now is loaded with dread possibilities.\n",
    "How much time has gone by?\"\"\"\n",
    "    if ckey == 2:\n",
    "        choice_4(question_1, option1, option2, 0, 0, output1, output2, 0, 0, 1, 0)\n",
    "        \n",
    "        #Option 2 further continuation\n",
    "        option1 = \"Time for action!\"\n",
    "        option2 = \"It's best to just wait for help.\"\n",
    "        output1 = \"\"\"Finally summoning your courage, you start moving. Slowly feeling your way around, \n",
    "you eventually find a door handle.\"\"\"\n",
    "        output2 = \"\"\"You pull your knees up to your chest. Someone will come to help, you're sure of it.\n",
    "You start to feel light headed, and the air is getting even warmer. It's comforting in a strange way.\n",
    "A sense of calm comes over you; yes...someone will come. Eventually you doze off.\"\"\"\n",
    "        print(ckey)\n",
    "        if ckey == 2:\n",
    "            choice_4(question_1, option1, option2, 0, 0, output1, output2, 0, 0, 1, 0)\n",
    "            if ckey == 2:\n",
    "                gen_text(0, \"Game Over\", 3, 0)\n",
    "                return_checkpoint()\n",
    "            continue\n",
    "    break"
   ]
  },
  {
   "cell_type": "markdown",
   "id": "181e1721-af47-4f58-9bda-c4099b308fb9",
   "metadata": {},
   "source": [
    "Chapter - Leaving Safety<br>\n",
    "Checkpoint 1<br>\n",
    "First set of choices to leave current room.<br>"
   ]
  },
  {
   "cell_type": "code",
   "execution_count": null,
   "id": "842dffcb-9e3d-487c-8c8c-fe1a34ee235a",
   "metadata": {},
   "outputs": [],
   "source": [
    "    "
   ]
  }
 ],
 "metadata": {
  "kernelspec": {
   "display_name": "Python 3 (ipykernel)",
   "language": "python",
   "name": "python3"
  },
  "language_info": {
   "codemirror_mode": {
    "name": "ipython",
    "version": 3
   },
   "file_extension": ".py",
   "mimetype": "text/x-python",
   "name": "python",
   "nbconvert_exporter": "python",
   "pygments_lexer": "ipython3",
   "version": "3.10.4"
  }
 },
 "nbformat": 4,
 "nbformat_minor": 5
}
