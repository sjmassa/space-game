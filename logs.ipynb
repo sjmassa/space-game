{
 "cells": [
  {
   "cell_type": "markdown",
   "id": "f49dd33b-58c8-457c-b219-51e98ad0f3a3",
   "metadata": {},
   "source": [
    "#Alone_On_Mars Logs"
   ]
  },
  {
   "cell_type": "markdown",
   "id": "236b7d16-460f-4f3e-b5e2-925bb4b65f67",
   "metadata": {},
   "source": [
    "Email Logs"
   ]
  },
  {
   "cell_type": "code",
   "execution_count": null,
   "id": "82381c74-e093-4057-9d2d-5aad52ff1834",
   "metadata": {},
   "outputs": [],
   "source": [
    "email_log_1 = \"\"\"I just wanted to extend a big welcome to the new recruits\n",
    "that will be joining us tomorrow! We are all looking forward to meeting you\n",
    "and we hope your journey wasn't too tiring.\"\"\""
   ]
  }
 ],
 "metadata": {
  "kernelspec": {
   "display_name": "Python 3 (ipykernel)",
   "language": "python",
   "name": "python3"
  },
  "language_info": {
   "codemirror_mode": {
    "name": "ipython",
    "version": 3
   },
   "file_extension": ".py",
   "mimetype": "text/x-python",
   "name": "python",
   "nbconvert_exporter": "python",
   "pygments_lexer": "ipython3",
   "version": "3.10.4"
  }
 },
 "nbformat": 4,
 "nbformat_minor": 5
}
